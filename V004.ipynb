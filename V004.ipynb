{
 "cells": [
  {
   "cell_type": "code",
   "execution_count": 2,
   "id": "534e5d3e",
   "metadata": {},
   "outputs": [
    {
     "name": "stdout",
     "output_type": "stream",
     "text": [
      "Requirement already satisfied: imblearn in c:\\users\\zehra\\anaconda3\\lib\\site-packages (0.0)\n",
      "Requirement already satisfied: imbalanced-learn in c:\\users\\zehra\\anaconda3\\lib\\site-packages (from imblearn) (0.8.0)\n",
      "Requirement already satisfied: scikit-learn>=0.24 in c:\\users\\zehra\\anaconda3\\lib\\site-packages (from imbalanced-learn->imblearn) (0.24.2)\n",
      "Requirement already satisfied: numpy>=1.13.3 in c:\\users\\zehra\\anaconda3\\lib\\site-packages (from imbalanced-learn->imblearn) (1.19.5)\n",
      "Requirement already satisfied: scipy>=0.19.1 in c:\\users\\zehra\\anaconda3\\lib\\site-packages (from imbalanced-learn->imblearn) (1.6.2)\n",
      "Requirement already satisfied: joblib>=0.11 in c:\\users\\zehra\\anaconda3\\lib\\site-packages (from imbalanced-learn->imblearn) (1.0.1)\n",
      "Requirement already satisfied: threadpoolctl>=2.0.0 in c:\\users\\zehra\\anaconda3\\lib\\site-packages (from scikit-learn>=0.24->imbalanced-learn->imblearn) (2.1.0)\n"
     ]
    }
   ],
   "source": [
    "!pip install imblearn"
   ]
  },
  {
   "cell_type": "code",
   "execution_count": 238,
   "id": "7484b992",
   "metadata": {},
   "outputs": [
    {
     "name": "stderr",
     "output_type": "stream",
     "text": [
      "[nltk_data] Downloading package wordnet to\n",
      "[nltk_data]     C:\\Users\\Zehra\\AppData\\Roaming\\nltk_data...\n",
      "[nltk_data]   Package wordnet is already up-to-date!\n"
     ]
    }
   ],
   "source": [
    "import pandas as pd\n",
    "import numpy as np\n",
    "import matplotlib.pyplot as plt\n",
    "import seaborn as sns\n",
    "\n",
    "import re\n",
    "import nltk\n",
    "from nltk.corpus import stopwords\n",
    "from textblob import Word\n",
    "nltk.download(\"wordnet\")\n",
    "from sklearn.feature_extraction.text import CountVectorizer\n",
    "from sklearn.feature_extraction.text import TfidfVectorizer\n",
    "\n",
    "from sklearn.model_selection import train_test_split\n",
    "from sklearn import preprocessing\n",
    "from sklearn.tree import DecisionTreeClassifier\n",
    "from sklearn.metrics import accuracy_score\n",
    "from sklearn.metrics import confusion_matrix\n",
    "from sklearn.model_selection import cross_val_score\n",
    "\n",
    "import sklearn\n",
    "from sklearn import model_selection\n",
    "from sklearn import metrics\n",
    "import sklearn.metrics as mt\n",
    "from imblearn.over_sampling import RandomOverSampler\n",
    "from imblearn.over_sampling import SMOTE\n",
    "from imblearn.under_sampling import RandomUnderSampler\n",
    "from imblearn.under_sampling import NearMiss"
   ]
  },
  {
   "cell_type": "code",
   "execution_count": 301,
   "id": "1b3a2934",
   "metadata": {},
   "outputs": [],
   "source": [
    "df_test =  pd.read_csv(\"C:/Users/Zehra/Desktop/Python/Twitter_Sentiment/test.csv\", error_bad_lines=False)\n",
    "df_train =  pd.read_csv(\"C:/Users/Zehra/Desktop/Python/Twitter_Sentiment/train.csv\", error_bad_lines=False)\n",
    "df_submission =  pd.read_csv(\"C:/Users/Zehra/Desktop/Python/Twitter_Sentiment/sample_submission.csv\", error_bad_lines=False)"
   ]
  },
  {
   "cell_type": "code",
   "execution_count": 302,
   "id": "3d900272",
   "metadata": {},
   "outputs": [
    {
     "data": {
      "text/plain": [
       "id       0\n",
       "label    0\n",
       "tweet    0\n",
       "dtype: int64"
      ]
     },
     "execution_count": 302,
     "metadata": {},
     "output_type": "execute_result"
    }
   ],
   "source": [
    "df_train.isnull().sum()"
   ]
  },
  {
   "cell_type": "code",
   "execution_count": 303,
   "id": "2090d9c5",
   "metadata": {},
   "outputs": [],
   "source": [
    "df=pd.concat([df_test, df_train], axis=0)"
   ]
  },
  {
   "cell_type": "code",
   "execution_count": 304,
   "id": "8f4d6ee6",
   "metadata": {},
   "outputs": [],
   "source": [
    "df=df.drop(\"id\", axis=1)"
   ]
  },
  {
   "cell_type": "code",
   "execution_count": 305,
   "id": "29724e73",
   "metadata": {},
   "outputs": [
    {
     "data": {
      "text/html": [
       "<div>\n",
       "<style scoped>\n",
       "    .dataframe tbody tr th:only-of-type {\n",
       "        vertical-align: middle;\n",
       "    }\n",
       "\n",
       "    .dataframe tbody tr th {\n",
       "        vertical-align: top;\n",
       "    }\n",
       "\n",
       "    .dataframe thead th {\n",
       "        text-align: right;\n",
       "    }\n",
       "</style>\n",
       "<table border=\"1\" class=\"dataframe\">\n",
       "  <thead>\n",
       "    <tr style=\"text-align: right;\">\n",
       "      <th></th>\n",
       "      <th>tweet</th>\n",
       "      <th>label</th>\n",
       "    </tr>\n",
       "  </thead>\n",
       "  <tbody>\n",
       "    <tr>\n",
       "      <th>0</th>\n",
       "      <td>#studiolife #aislife #requires #passion #dedic...</td>\n",
       "      <td>NaN</td>\n",
       "    </tr>\n",
       "    <tr>\n",
       "      <th>1</th>\n",
       "      <td>@user #white #supremacists want everyone to s...</td>\n",
       "      <td>NaN</td>\n",
       "    </tr>\n",
       "    <tr>\n",
       "      <th>2</th>\n",
       "      <td>safe ways to heal your #acne!!    #altwaystohe...</td>\n",
       "      <td>NaN</td>\n",
       "    </tr>\n",
       "    <tr>\n",
       "      <th>3</th>\n",
       "      <td>is the hp and the cursed child book up for res...</td>\n",
       "      <td>NaN</td>\n",
       "    </tr>\n",
       "    <tr>\n",
       "      <th>4</th>\n",
       "      <td>3rd #bihday to my amazing, hilarious #nephew...</td>\n",
       "      <td>NaN</td>\n",
       "    </tr>\n",
       "    <tr>\n",
       "      <th>...</th>\n",
       "      <td>...</td>\n",
       "      <td>...</td>\n",
       "    </tr>\n",
       "    <tr>\n",
       "      <th>31957</th>\n",
       "      <td>ate @user isz that youuu?ðððððð...</td>\n",
       "      <td>0.0</td>\n",
       "    </tr>\n",
       "    <tr>\n",
       "      <th>31958</th>\n",
       "      <td>to see nina turner on the airwaves trying to...</td>\n",
       "      <td>0.0</td>\n",
       "    </tr>\n",
       "    <tr>\n",
       "      <th>31959</th>\n",
       "      <td>listening to sad songs on a monday morning otw...</td>\n",
       "      <td>0.0</td>\n",
       "    </tr>\n",
       "    <tr>\n",
       "      <th>31960</th>\n",
       "      <td>@user #sikh #temple vandalised in in #calgary,...</td>\n",
       "      <td>1.0</td>\n",
       "    </tr>\n",
       "    <tr>\n",
       "      <th>31961</th>\n",
       "      <td>thank you @user for you follow</td>\n",
       "      <td>0.0</td>\n",
       "    </tr>\n",
       "  </tbody>\n",
       "</table>\n",
       "<p>49159 rows × 2 columns</p>\n",
       "</div>"
      ],
      "text/plain": [
       "                                                   tweet  label\n",
       "0      #studiolife #aislife #requires #passion #dedic...    NaN\n",
       "1       @user #white #supremacists want everyone to s...    NaN\n",
       "2      safe ways to heal your #acne!!    #altwaystohe...    NaN\n",
       "3      is the hp and the cursed child book up for res...    NaN\n",
       "4        3rd #bihday to my amazing, hilarious #nephew...    NaN\n",
       "...                                                  ...    ...\n",
       "31957  ate @user isz that youuu?ðððððð...    0.0\n",
       "31958    to see nina turner on the airwaves trying to...    0.0\n",
       "31959  listening to sad songs on a monday morning otw...    0.0\n",
       "31960  @user #sikh #temple vandalised in in #calgary,...    1.0\n",
       "31961                   thank you @user for you follow      0.0\n",
       "\n",
       "[49159 rows x 2 columns]"
      ]
     },
     "execution_count": 305,
     "metadata": {},
     "output_type": "execute_result"
    }
   ],
   "source": [
    "df"
   ]
  },
  {
   "cell_type": "code",
   "execution_count": 306,
   "id": "5fef4ab7",
   "metadata": {},
   "outputs": [
    {
     "data": {
      "text/plain": [
       "(49159, 2)"
      ]
     },
     "execution_count": 306,
     "metadata": {},
     "output_type": "execute_result"
    }
   ],
   "source": [
    "df.shape"
   ]
  },
  {
   "cell_type": "code",
   "execution_count": 307,
   "id": "ea941b88",
   "metadata": {},
   "outputs": [
    {
     "name": "stderr",
     "output_type": "stream",
     "text": [
      "C:\\Users\\Zehra\\anaconda3\\lib\\site-packages\\seaborn\\_decorators.py:36: FutureWarning: Pass the following variable as a keyword arg: x. From version 0.12, the only valid positional argument will be `data`, and passing other arguments without an explicit keyword will result in an error or misinterpretation.\n",
      "  warnings.warn(\n"
     ]
    },
    {
     "data": {
      "image/png": "[encoded data removed]",
      "text/plain": [
       "<Figure size 1296x576 with 2 Axes>"
      ]
     },
     "metadata": {
      "needs_background": "light"
     },
     "output_type": "display_data"
    }
   ],
   "source": [
    "f,ax=plt.subplots(1,2,figsize=(18,8))\n",
    "df['label'].value_counts().plot.pie(explode=[0,0.1],autopct='%1.1f%%',ax=ax[0],shadow=True)\n",
    "ax[0].set_title('Dağılım')\n",
    "ax[0].set_ylabel('')\n",
    "sns.countplot('label',data=df,ax=ax[1])\n",
    "ax[1].set_title('label')\n",
    "plt.show()"
   ]
  },
  {
   "cell_type": "markdown",
   "id": "e2e9ab04",
   "metadata": {},
   "source": [
    "### Veri Temizleme"
   ]
  },
  {
   "cell_type": "code",
   "execution_count": 308,
   "id": "ed5aaed2",
   "metadata": {},
   "outputs": [],
   "source": [
    "def CleanTxt(text):\n",
    "    text=re.sub(r'@[A-Za-z0-9]+', '', text)\n",
    "    text=re.sub(r'#', ' ', text) # hashtag silmek için\n",
    "    text=re.sub(r'RT[\\s]+', '', text) #rt\n",
    "    text=re.sub(r'https?:\\/\\/\\S+', '', text)  #web siteleri için\n",
    "    text=re.sub(r\"\\b[a-zA-Z]\\b\", \"\", text)\n",
    "    text=re.sub(\"\\d\",\"\", text)\n",
    "    text=re.sub(\"[^A-Za-z]\",\" \", text)\n",
    "    return text\n",
    "    \n",
    "df[\"tweet\"]=df[\"tweet\"].apply(CleanTxt)"
   ]
  },
  {
   "cell_type": "code",
   "execution_count": 309,
   "id": "7c948e52",
   "metadata": {},
   "outputs": [],
   "source": [
    "def remove_emoji(text):\n",
    "    emoji_pattern = re.compile(\"[\"\n",
    "                           u\"\\U0001F600-\\U0001F64F\"  # emoticons\n",
    "                           u\"\\U0001F300-\\U0001F5FF\"  # symbols & pictographs\n",
    "                           u\"\\U0001F680-\\U0001F6FF\"  # transport & map symbols\n",
    "                           u\"\\U0001F1E0-\\U0001F1FF\"  # flags (iOS)\n",
    "                           u\"\\U00002702-\\U000027B0\"\n",
    "                           u\"\\U000024C2-\\U0001F251\"\n",
    "                           \"]+\", flags=re.UNICODE)\n",
    "    return emoji_pattern.sub(r'', text)\n",
    "\n",
    "df[\"tweet\"]=df[\"tweet\"].apply(remove_emoji)"
   ]
  },
  {
   "cell_type": "code",
   "execution_count": 310,
   "id": "ee11e6f9",
   "metadata": {},
   "outputs": [
    {
     "data": {
      "text/plain": [
       "the                      15751\n",
       "to                       15108\n",
       "you                       9054\n",
       "and                       7672\n",
       "in                        7065\n",
       "                         ...  \n",
       "rrockalldayer                1\n",
       "shakeshack                   1\n",
       "weneedgodmorethanever        1\n",
       "unpaused                     1\n",
       "prop                         1\n",
       "Length: 49046, dtype: int64"
      ]
     },
     "execution_count": 310,
     "metadata": {},
     "output_type": "execute_result"
    }
   ],
   "source": [
    "pd.Series(\" \".join(df[\"tweet\"]).split()).value_counts()"
   ]
  },
  {
   "cell_type": "code",
   "execution_count": 311,
   "id": "5edb2fdd",
   "metadata": {},
   "outputs": [],
   "source": [
    "sw=stopwords.words(\"english\")\n",
    "df[\"tweet\"] = df[\"tweet\"].apply(lambda x: \" \".join(x for x in x.split() if x not in sw))"
   ]
  },
  {
   "cell_type": "code",
   "execution_count": 312,
   "id": "d9e0a9be",
   "metadata": {},
   "outputs": [],
   "source": [
    "df[\"tweet\"] = df[\"tweet\"].apply(lambda x: \" \".join(Word(word).lemmatize() for word in x.split()))"
   ]
  },
  {
   "cell_type": "code",
   "execution_count": 313,
   "id": "5b222935",
   "metadata": {},
   "outputs": [
    {
     "data": {
      "text/html": [
       "<div>\n",
       "<style scoped>\n",
       "    .dataframe tbody tr th:only-of-type {\n",
       "        vertical-align: middle;\n",
       "    }\n",
       "\n",
       "    .dataframe tbody tr th {\n",
       "        vertical-align: top;\n",
       "    }\n",
       "\n",
       "    .dataframe thead th {\n",
       "        text-align: right;\n",
       "    }\n",
       "</style>\n",
       "<table border=\"1\" class=\"dataframe\">\n",
       "  <thead>\n",
       "    <tr style=\"text-align: right;\">\n",
       "      <th></th>\n",
       "      <th>tweet</th>\n",
       "      <th>label</th>\n",
       "    </tr>\n",
       "  </thead>\n",
       "  <tbody>\n",
       "    <tr>\n",
       "      <th>0</th>\n",
       "      <td>studiolife aislife requires passion dedication...</td>\n",
       "      <td>NaN</td>\n",
       "    </tr>\n",
       "    <tr>\n",
       "      <th>1</th>\n",
       "      <td>white supremacist want everyone see new bird m...</td>\n",
       "      <td>NaN</td>\n",
       "    </tr>\n",
       "    <tr>\n",
       "      <th>2</th>\n",
       "      <td>safe way heal acne altwaystoheal healthy healing</td>\n",
       "      <td>NaN</td>\n",
       "    </tr>\n",
       "    <tr>\n",
       "      <th>3</th>\n",
       "      <td>hp cursed child book reservation already yes h...</td>\n",
       "      <td>NaN</td>\n",
       "    </tr>\n",
       "    <tr>\n",
       "      <th>4</th>\n",
       "      <td>rd bihday amazing hilarious nephew eli ahmir u...</td>\n",
       "      <td>NaN</td>\n",
       "    </tr>\n",
       "  </tbody>\n",
       "</table>\n",
       "</div>"
      ],
      "text/plain": [
       "                                               tweet  label\n",
       "0  studiolife aislife requires passion dedication...    NaN\n",
       "1  white supremacist want everyone see new bird m...    NaN\n",
       "2   safe way heal acne altwaystoheal healthy healing    NaN\n",
       "3  hp cursed child book reservation already yes h...    NaN\n",
       "4  rd bihday amazing hilarious nephew eli ahmir u...    NaN"
      ]
     },
     "execution_count": 313,
     "metadata": {},
     "output_type": "execute_result"
    }
   ],
   "source": [
    "df.head()"
   ]
  },
  {
   "cell_type": "code",
   "execution_count": 314,
   "id": "aec1149a",
   "metadata": {},
   "outputs": [
    {
     "data": {
      "text/plain": [
       "love               4437\n",
       "day                4416\n",
       "amp                2709\n",
       "happy              2654\n",
       "time               1948\n",
       "                   ... \n",
       "twilightsparkle       1\n",
       "unironic              1\n",
       "colorsay              1\n",
       "payslip               1\n",
       "ratm                  1\n",
       "Length: 46093, dtype: int64"
      ]
     },
     "execution_count": 314,
     "metadata": {},
     "output_type": "execute_result"
    }
   ],
   "source": [
    "pd.Series(\" \".join(df[\"tweet\"]).split()).value_counts()"
   ]
  },
  {
   "cell_type": "code",
   "execution_count": 315,
   "id": "03db024a",
   "metadata": {},
   "outputs": [],
   "source": [
    "sil = pd.Series(' '.join(df['tweet']).split()).value_counts()[-42000:]\n",
    "df['tweet'] = df['tweet'].apply(lambda x: \" \".join(x for x in x.split() if x not in sil))"
   ]
  },
  {
   "cell_type": "code",
   "execution_count": 316,
   "id": "46308c0f",
   "metadata": {},
   "outputs": [
    {
     "data": {
      "text/plain": [
       "love             4437\n",
       "day              4416\n",
       "amp              2709\n",
       "happy            2654\n",
       "time             1948\n",
       "                 ... \n",
       "doin               11\n",
       "doc                11\n",
       "sparkle            11\n",
       "sorrynotsorry      11\n",
       "giggle             11\n",
       "Length: 4093, dtype: int64"
      ]
     },
     "execution_count": 316,
     "metadata": {},
     "output_type": "execute_result"
    }
   ],
   "source": [
    "pd.Series(\" \".join(df[\"tweet\"]).split()).value_counts()"
   ]
  },
  {
   "cell_type": "markdown",
   "id": "7c125159",
   "metadata": {},
   "source": [
    "# Makine Öğrenmesi"
   ]
  },
  {
   "cell_type": "code",
   "execution_count": 317,
   "id": "bb11e0a9",
   "metadata": {},
   "outputs": [],
   "source": [
    "test=df[:df_train.shape[0]]\n",
    "train=df[df_train.shape[0]:]"
   ]
  },
  {
   "cell_type": "code",
   "execution_count": 318,
   "id": "7c15dfba",
   "metadata": {},
   "outputs": [],
   "source": [
    "target = train[[\"label\"]]"
   ]
  },
  {
   "cell_type": "code",
   "execution_count": 319,
   "id": "52467869",
   "metadata": {},
   "outputs": [],
   "source": [
    "y=df[17197:].label"
   ]
  },
  {
   "cell_type": "code",
   "execution_count": 320,
   "id": "ea88948c",
   "metadata": {},
   "outputs": [],
   "source": [
    "del df[\"label\"]"
   ]
  },
  {
   "cell_type": "code",
   "execution_count": 321,
   "id": "8f3dc243",
   "metadata": {},
   "outputs": [],
   "source": [
    "x=df[17197:]"
   ]
  },
  {
   "cell_type": "code",
   "execution_count": 322,
   "id": "f1025e5f",
   "metadata": {},
   "outputs": [],
   "source": [
    "x_train, x_test, y_train, y_test = train_test_split(train[\"tweet\"],target[\"label\"] , random_state = 1)"
   ]
  },
  {
   "cell_type": "code",
   "execution_count": 323,
   "id": "5b24e37f",
   "metadata": {},
   "outputs": [
    {
     "data": {
      "text/plain": [
       "<12897x4052 sparse matrix of type '<class 'numpy.float64'>'\n",
       "\twith 73610 stored elements in Compressed Sparse Row format>"
      ]
     },
     "execution_count": 323,
     "metadata": {},
     "output_type": "execute_result"
    }
   ],
   "source": [
    "vectorizer = TfidfVectorizer()\n",
    "vectorizer.fit_transform(x_train)"
   ]
  },
  {
   "cell_type": "code",
   "execution_count": 324,
   "id": "cf44bc7c",
   "metadata": {},
   "outputs": [],
   "source": [
    "x_train_vectorizer = vectorizer.transform(x_train)\n",
    "x_test_vectorizer = vectorizer.transform(x_test)"
   ]
  },
  {
   "cell_type": "code",
   "execution_count": 325,
   "id": "9c6c1943",
   "metadata": {},
   "outputs": [],
   "source": [
    "test = test[\"tweet\"]\n",
    "test_tf_idf = vectorizer.transform(test)"
   ]
  },
  {
   "cell_type": "markdown",
   "id": "fdd41c5c",
   "metadata": {},
   "source": [
    "### Decision Tree Classifier"
   ]
  },
  {
   "cell_type": "code",
   "execution_count": 326,
   "id": "63c08b08",
   "metadata": {},
   "outputs": [],
   "source": [
    "model = DecisionTreeClassifier()"
   ]
  },
  {
   "cell_type": "code",
   "execution_count": 327,
   "id": "b91a5d45",
   "metadata": {},
   "outputs": [],
   "source": [
    "model = model.fit(x_train_vectorizer,y_train)"
   ]
  },
  {
   "cell_type": "code",
   "execution_count": 328,
   "id": "e2ca615e",
   "metadata": {},
   "outputs": [],
   "source": [
    "y_pred = model.predict(x_test_vectorizer)"
   ]
  },
  {
   "cell_type": "code",
   "execution_count": 329,
   "id": "6c789649",
   "metadata": {},
   "outputs": [
    {
     "name": "stdout",
     "output_type": "stream",
     "text": [
      "Accuracy: 0.939\n"
     ]
    }
   ],
   "source": [
    "accuracy = accuracy_score(y_test, y_pred)\n",
    "print(\"Accuracy: %.3f\"%(accuracy))"
   ]
  },
  {
   "cell_type": "markdown",
   "id": "c6a149e1",
   "metadata": {},
   "source": [
    "Skorun 0.93 olması modelin başarısından değil, veri setinin dengesiz olmasından kaynaklanıyor.\n",
    "\n",
    "Dengesiz veri setleriyle çalışırken doğru gözlem yapabilmek için uygulayabileceğimiz çeşitli yöntemler vardır."
   ]
  },
  {
   "cell_type": "markdown",
   "id": "79c57df7",
   "metadata": {},
   "source": [
    "- Doğru Metrik Seçimi\n",
    "\n",
    "Precision\n",
    "\n",
    "Recall\n",
    "\n",
    "F1-score\n",
    "\n",
    "ROC Curve\n",
    "\n",
    "AUC\n",
    "\n",
    "- Resampling\n",
    "\n",
    "Oversampling\n",
    "\n",
    "Undersampling\n",
    "\n",
    "- Daha fazla veri toplamak\n",
    "\n",
    "\n",
    "- Sınıflandırma modellerinde bulunan “class_weight” parametresi kullanılarak azınlık ve çoğunluk sınıflarından eşit şekilde öğrenebilen model yaratılması\n",
    "\n",
    "\n",
    "- Tek bir modele değil , diğer modellerdeki performanslara da bakılması\n",
    "\n",
    "\n",
    "- Daha farklı bir yaklaşım uygulanıp Anomaly detection veya Change detection yapmak"
   ]
  },
  {
   "cell_type": "markdown",
   "id": "1fa950cf",
   "metadata": {},
   "source": [
    "# Metrik Seçimi"
   ]
  },
  {
   "cell_type": "markdown",
   "id": "2fab08d8",
   "metadata": {},
   "source": [
    "### Precision"
   ]
  },
  {
   "cell_type": "code",
   "execution_count": 337,
   "id": "b44c872c",
   "metadata": {},
   "outputs": [],
   "source": [
    "precision =(mt.precision_score(y_test, y_pred))"
   ]
  },
  {
   "cell_type": "code",
   "execution_count": 338,
   "id": "80cb38f1",
   "metadata": {},
   "outputs": [
    {
     "data": {
      "text/plain": [
       "0.6484375"
      ]
     },
     "execution_count": 338,
     "metadata": {},
     "output_type": "execute_result"
    }
   ],
   "source": [
    "precision"
   ]
  },
  {
   "cell_type": "markdown",
   "id": "1aaa8ef5",
   "metadata": {},
   "source": [
    "### Recall"
   ]
  },
  {
   "cell_type": "code",
   "execution_count": 339,
   "id": "f38e4e82",
   "metadata": {},
   "outputs": [],
   "source": [
    "recall= mt.recall_score(y_test, y_pred)"
   ]
  },
  {
   "cell_type": "code",
   "execution_count": 340,
   "id": "263cc90c",
   "metadata": {},
   "outputs": [
    {
     "data": {
      "text/plain": [
       "0.4896755162241888"
      ]
     },
     "execution_count": 340,
     "metadata": {},
     "output_type": "execute_result"
    }
   ],
   "source": [
    "recall"
   ]
  },
  {
   "cell_type": "markdown",
   "id": "5d6bf974",
   "metadata": {},
   "source": [
    "### F1 Score"
   ]
  },
  {
   "cell_type": "code",
   "execution_count": 341,
   "id": "b74c8ca5",
   "metadata": {},
   "outputs": [
    {
     "name": "stdout",
     "output_type": "stream",
     "text": [
      "0.5579831932773109\n"
     ]
    }
   ],
   "source": [
    "f1=2*((precision*recall)/(precision+recall))\n",
    "print(f1)"
   ]
  },
  {
   "cell_type": "markdown",
   "id": "6132db3a",
   "metadata": {},
   "source": [
    "# Resampling"
   ]
  },
  {
   "cell_type": "markdown",
   "id": "7d474928",
   "metadata": {},
   "source": [
    "### Random Oversampling"
   ]
  },
  {
   "cell_type": "code",
   "execution_count": 343,
   "id": "f4a61db4",
   "metadata": {},
   "outputs": [
    {
     "data": {
      "text/plain": [
       "0.0    12022\n",
       "1.0      875\n",
       "Name: label, dtype: int64"
      ]
     },
     "execution_count": 343,
     "metadata": {},
     "output_type": "execute_result"
    }
   ],
   "source": [
    "y_train.value_counts()"
   ]
  },
  {
   "cell_type": "code",
   "execution_count": 344,
   "id": "3a89e62d",
   "metadata": {},
   "outputs": [],
   "source": [
    "oversample = RandomOverSampler(sampling_strategy='minority')\n",
    "x_randomover, y_randomover = oversample.fit_resample(x_train_vectorizer,y_train)"
   ]
  },
  {
   "cell_type": "code",
   "execution_count": 345,
   "id": "cd02c4aa",
   "metadata": {},
   "outputs": [
    {
     "data": {
      "text/plain": [
       "0.0    12022\n",
       "1.0    12022\n",
       "Name: label, dtype: int64"
      ]
     },
     "execution_count": 345,
     "metadata": {},
     "output_type": "execute_result"
    }
   ],
   "source": [
    "y_randomover.value_counts()"
   ]
  },
  {
   "cell_type": "code",
   "execution_count": 346,
   "id": "b814c8a3",
   "metadata": {},
   "outputs": [
    {
     "data": {
      "text/plain": [
       "DecisionTreeClassifier()"
      ]
     },
     "execution_count": 346,
     "metadata": {},
     "output_type": "execute_result"
    }
   ],
   "source": [
    "model.fit(x_randomover, y_randomover)"
   ]
  },
  {
   "cell_type": "code",
   "execution_count": 347,
   "id": "47dba758",
   "metadata": {},
   "outputs": [],
   "source": [
    "y_pred = model.predict(x_test_vectorizer)"
   ]
  },
  {
   "cell_type": "code",
   "execution_count": null,
   "id": "a02c5937",
   "metadata": {},
   "outputs": [],
   "source": []
  },
  {
   "cell_type": "code",
   "execution_count": 348,
   "id": "ba312929",
   "metadata": {},
   "outputs": [
    {
     "name": "stdout",
     "output_type": "stream",
     "text": [
      "0.9155813953488372\n"
     ]
    }
   ],
   "source": [
    "accuracy = accuracy_score(y_test, y_pred)\n",
    "print(accuracy)"
   ]
  },
  {
   "cell_type": "code",
   "execution_count": 349,
   "id": "9c620af6",
   "metadata": {},
   "outputs": [
    {
     "name": "stdout",
     "output_type": "stream",
     "text": [
      "0.4719626168224299\n"
     ]
    }
   ],
   "source": [
    "precision =(mt.precision_score(y_test, y_pred))\n",
    "print(precision)"
   ]
  },
  {
   "cell_type": "code",
   "execution_count": 350,
   "id": "8aab5176",
   "metadata": {},
   "outputs": [
    {
     "name": "stdout",
     "output_type": "stream",
     "text": [
      "0.5958702064896755\n"
     ]
    }
   ],
   "source": [
    "recall= mt.recall_score(y_test, y_pred)\n",
    "print(recall)"
   ]
  },
  {
   "cell_type": "code",
   "execution_count": 351,
   "id": "0aeda404",
   "metadata": {},
   "outputs": [
    {
     "name": "stdout",
     "output_type": "stream",
     "text": [
      "0.5267275097783573\n"
     ]
    }
   ],
   "source": [
    "f1=2*((precision*recall)/(precision+recall))\n",
    "print(f1)"
   ]
  },
  {
   "cell_type": "markdown",
   "id": "2a6cbd88",
   "metadata": {},
   "source": [
    "### Smote Oversampling"
   ]
  },
  {
   "cell_type": "code",
   "execution_count": 396,
   "id": "86c7489a",
   "metadata": {},
   "outputs": [
    {
     "data": {
      "text/plain": [
       "0.0    12022\n",
       "1.0      875\n",
       "Name: label, dtype: int64"
      ]
     },
     "execution_count": 396,
     "metadata": {},
     "output_type": "execute_result"
    }
   ],
   "source": [
    "y_train.value_counts()"
   ]
  },
  {
   "cell_type": "code",
   "execution_count": 397,
   "id": "7c7d9df1",
   "metadata": {},
   "outputs": [],
   "source": [
    "oversample = SMOTE()\n",
    "x_smote, y_smote = oversample.fit_resample(x_train_vectorizer, y_train)"
   ]
  },
  {
   "cell_type": "code",
   "execution_count": 398,
   "id": "13b2ef4e",
   "metadata": {},
   "outputs": [
    {
     "data": {
      "text/plain": [
       "0.0    12022\n",
       "1.0    12022\n",
       "Name: label, dtype: int64"
      ]
     },
     "execution_count": 398,
     "metadata": {},
     "output_type": "execute_result"
    }
   ],
   "source": [
    "y_smote.value_counts()"
   ]
  },
  {
   "cell_type": "code",
   "execution_count": 399,
   "id": "3d7a4873",
   "metadata": {},
   "outputs": [
    {
     "data": {
      "text/plain": [
       "DecisionTreeClassifier()"
      ]
     },
     "execution_count": 399,
     "metadata": {},
     "output_type": "execute_result"
    }
   ],
   "source": [
    "model.fit(x_smote, y_smote)"
   ]
  },
  {
   "cell_type": "code",
   "execution_count": 400,
   "id": "c341d055",
   "metadata": {},
   "outputs": [],
   "source": [
    "y_pred = model.predict(x_test_vectorizer)"
   ]
  },
  {
   "cell_type": "code",
   "execution_count": 406,
   "id": "7d1a5686",
   "metadata": {},
   "outputs": [],
   "source": [
    "df2.reset_index(inplace=True)"
   ]
  },
  {
   "cell_type": "code",
   "execution_count": 407,
   "id": "d8a64a35",
   "metadata": {},
   "outputs": [],
   "source": [
    "df2=df2.drop(\"index\", axis=1)"
   ]
  },
  {
   "cell_type": "code",
   "execution_count": 408,
   "id": "2e4d11b5",
   "metadata": {},
   "outputs": [],
   "source": [
    "df3=pd.concat([df1, df2], axis=1)"
   ]
  },
  {
   "cell_type": "code",
   "execution_count": 409,
   "id": "8660fe70",
   "metadata": {},
   "outputs": [
    {
     "data": {
      "text/html": [
       "<div>\n",
       "<style scoped>\n",
       "    .dataframe tbody tr th:only-of-type {\n",
       "        vertical-align: middle;\n",
       "    }\n",
       "\n",
       "    .dataframe tbody tr th {\n",
       "        vertical-align: top;\n",
       "    }\n",
       "\n",
       "    .dataframe thead th {\n",
       "        text-align: right;\n",
       "    }\n",
       "</style>\n",
       "<table border=\"1\" class=\"dataframe\">\n",
       "  <thead>\n",
       "    <tr style=\"text-align: right;\">\n",
       "      <th></th>\n",
       "      <th>0</th>\n",
       "      <th>tweet</th>\n",
       "    </tr>\n",
       "  </thead>\n",
       "  <tbody>\n",
       "    <tr>\n",
       "      <th>18</th>\n",
       "      <td>1.0</td>\n",
       "      <td>affected son son abuse change sex ed via</td>\n",
       "    </tr>\n",
       "    <tr>\n",
       "      <th>25</th>\n",
       "      <td>1.0</td>\n",
       "      <td>hate youtuber giveaway like bother clearly goi...</td>\n",
       "    </tr>\n",
       "    <tr>\n",
       "      <th>31</th>\n",
       "      <td>1.0</td>\n",
       "      <td>going service able get day today philly</td>\n",
       "    </tr>\n",
       "    <tr>\n",
       "      <th>37</th>\n",
       "      <td>1.0</td>\n",
       "      <td>heard presidential debate isi putin lgbt right...</td>\n",
       "    </tr>\n",
       "    <tr>\n",
       "      <th>50</th>\n",
       "      <td>1.0</td>\n",
       "      <td>best poetry romantic poetry love poetry new po...</td>\n",
       "    </tr>\n",
       "    <tr>\n",
       "      <th>...</th>\n",
       "      <td>...</td>\n",
       "      <td>...</td>\n",
       "    </tr>\n",
       "    <tr>\n",
       "      <th>4282</th>\n",
       "      <td>1.0</td>\n",
       "      <td>fo woh pastor say officer act viral video arre...</td>\n",
       "    </tr>\n",
       "    <tr>\n",
       "      <th>4286</th>\n",
       "      <td>1.0</td>\n",
       "      <td>horny australian woman pussy</td>\n",
       "    </tr>\n",
       "    <tr>\n",
       "      <th>4288</th>\n",
       "      <td>1.0</td>\n",
       "      <td>awesome black man get kkk member blacklivesmatter</td>\n",
       "    </tr>\n",
       "    <tr>\n",
       "      <th>4292</th>\n",
       "      <td>1.0</td>\n",
       "      <td>trump movement</td>\n",
       "    </tr>\n",
       "    <tr>\n",
       "      <th>4299</th>\n",
       "      <td>1.0</td>\n",
       "      <td>coffee break icon isolated white background</td>\n",
       "    </tr>\n",
       "  </tbody>\n",
       "</table>\n",
       "<p>399 rows × 2 columns</p>\n",
       "</div>"
      ],
      "text/plain": [
       "        0                                              tweet\n",
       "18    1.0           affected son son abuse change sex ed via\n",
       "25    1.0  hate youtuber giveaway like bother clearly goi...\n",
       "31    1.0            going service able get day today philly\n",
       "37    1.0  heard presidential debate isi putin lgbt right...\n",
       "50    1.0  best poetry romantic poetry love poetry new po...\n",
       "...   ...                                                ...\n",
       "4282  1.0  fo woh pastor say officer act viral video arre...\n",
       "4286  1.0                       horny australian woman pussy\n",
       "4288  1.0  awesome black man get kkk member blacklivesmatter\n",
       "4292  1.0                                     trump movement\n",
       "4299  1.0        coffee break icon isolated white background\n",
       "\n",
       "[399 rows x 2 columns]"
      ]
     },
     "execution_count": 409,
     "metadata": {},
     "output_type": "execute_result"
    }
   ],
   "source": [
    "df3[df3[0] == 1]"
   ]
  },
  {
   "cell_type": "code",
   "execution_count": 401,
   "id": "67e4f3c4",
   "metadata": {},
   "outputs": [
    {
     "name": "stdout",
     "output_type": "stream",
     "text": [
      "0.9176744186046512\n"
     ]
    }
   ],
   "source": [
    "accuracy = accuracy_score(y_test, y_pred)\n",
    "print(accuracy)"
   ]
  },
  {
   "cell_type": "code",
   "execution_count": 402,
   "id": "f644d38c",
   "metadata": {},
   "outputs": [
    {
     "name": "stdout",
     "output_type": "stream",
     "text": [
      "0.48120300751879697\n"
     ]
    }
   ],
   "source": [
    "precision =(mt.precision_score(y_test, y_pred))\n",
    "print(precision)"
   ]
  },
  {
   "cell_type": "code",
   "execution_count": 403,
   "id": "40dee770",
   "metadata": {},
   "outputs": [
    {
     "name": "stdout",
     "output_type": "stream",
     "text": [
      "0.5663716814159292\n"
     ]
    }
   ],
   "source": [
    "recall= mt.recall_score(y_test, y_pred)\n",
    "print(recall)"
   ]
  },
  {
   "cell_type": "code",
   "execution_count": 404,
   "id": "a948efcc",
   "metadata": {},
   "outputs": [
    {
     "name": "stdout",
     "output_type": "stream",
     "text": [
      "0.5203252032520326\n"
     ]
    }
   ],
   "source": [
    "f1=2*((precision*recall)/(precision+recall))\n",
    "print(f1)"
   ]
  },
  {
   "cell_type": "markdown",
   "id": "4c95aac1",
   "metadata": {},
   "source": [
    "### Undersampling"
   ]
  },
  {
   "cell_type": "code",
   "execution_count": 373,
   "id": "f5c77108",
   "metadata": {},
   "outputs": [
    {
     "data": {
      "text/plain": [
       "0.0    12022\n",
       "1.0      875\n",
       "Name: label, dtype: int64"
      ]
     },
     "execution_count": 373,
     "metadata": {},
     "output_type": "execute_result"
    }
   ],
   "source": [
    "y_train.value_counts()"
   ]
  },
  {
   "cell_type": "code",
   "execution_count": 374,
   "id": "cbf1caa4",
   "metadata": {},
   "outputs": [],
   "source": [
    "RanUS = RandomUnderSampler()\n",
    "x_RanUS, y_RanUS = RanUS.fit_resample(x_train_vectorizer, y_train)"
   ]
  },
  {
   "cell_type": "code",
   "execution_count": 375,
   "id": "122a4e9c",
   "metadata": {},
   "outputs": [
    {
     "data": {
      "text/plain": [
       "0.0    875\n",
       "1.0    875\n",
       "Name: label, dtype: int64"
      ]
     },
     "execution_count": 375,
     "metadata": {},
     "output_type": "execute_result"
    }
   ],
   "source": [
    "y_RanUS.value_counts()"
   ]
  },
  {
   "cell_type": "code",
   "execution_count": 376,
   "id": "b7c2a15c",
   "metadata": {},
   "outputs": [
    {
     "data": {
      "text/plain": [
       "DecisionTreeClassifier()"
      ]
     },
     "execution_count": 376,
     "metadata": {},
     "output_type": "execute_result"
    }
   ],
   "source": [
    "model.fit(x_RanUS, y_RanUS)"
   ]
  },
  {
   "cell_type": "code",
   "execution_count": 383,
   "id": "b7d4d906",
   "metadata": {},
   "outputs": [],
   "source": [
    "y_pred = model.predict(x_test_vectorizer)"
   ]
  },
  {
   "cell_type": "code",
   "execution_count": 384,
   "id": "80d8607f",
   "metadata": {},
   "outputs": [
    {
     "name": "stdout",
     "output_type": "stream",
     "text": [
      "0.8286046511627907\n"
     ]
    }
   ],
   "source": [
    "accuracy = accuracy_score(y_test, y_pred)\n",
    "print(accuracy)"
   ]
  },
  {
   "cell_type": "code",
   "execution_count": 385,
   "id": "a8a221ed",
   "metadata": {},
   "outputs": [
    {
     "name": "stdout",
     "output_type": "stream",
     "text": [
      "0.27640449438202247\n"
     ]
    }
   ],
   "source": [
    "precision =(mt.precision_score(y_test, y_pred))\n",
    "print(precision)"
   ]
  },
  {
   "cell_type": "code",
   "execution_count": 386,
   "id": "9bc3bd0a",
   "metadata": {},
   "outputs": [
    {
     "name": "stdout",
     "output_type": "stream",
     "text": [
      "0.7256637168141593\n"
     ]
    }
   ],
   "source": [
    "recall= mt.recall_score(y_test, y_pred)\n",
    "print(recall)"
   ]
  },
  {
   "cell_type": "code",
   "execution_count": 387,
   "id": "d483084e",
   "metadata": {},
   "outputs": [
    {
     "name": "stdout",
     "output_type": "stream",
     "text": [
      "0.40032546786004874\n"
     ]
    }
   ],
   "source": [
    "f1=2*((precision*recall)/(precision+recall))\n",
    "print(f1)"
   ]
  },
  {
   "cell_type": "markdown",
   "id": "235a1979",
   "metadata": {},
   "source": [
    "### NearMiss Undersampling"
   ]
  },
  {
   "cell_type": "markdown",
   "id": "9ca8dc01",
   "metadata": {},
   "source": [
    "Version 1"
   ]
  },
  {
   "cell_type": "code",
   "execution_count": 388,
   "id": "ba7afc76",
   "metadata": {},
   "outputs": [],
   "source": [
    "undersample = NearMiss(version=1, n_neighbors=6)"
   ]
  },
  {
   "cell_type": "code",
   "execution_count": 389,
   "id": "f788c996",
   "metadata": {},
   "outputs": [],
   "source": [
    "x_undersample, y_undersample = undersample.fit_resample(x_train_vectorizer, y_train)"
   ]
  },
  {
   "cell_type": "code",
   "execution_count": 390,
   "id": "e28ad6ac",
   "metadata": {},
   "outputs": [
    {
     "data": {
      "text/plain": [
       "DecisionTreeClassifier()"
      ]
     },
     "execution_count": 390,
     "metadata": {},
     "output_type": "execute_result"
    }
   ],
   "source": [
    "model.fit(x_undersample, y_undersample)"
   ]
  },
  {
   "cell_type": "code",
   "execution_count": 391,
   "id": "5420a936",
   "metadata": {},
   "outputs": [],
   "source": [
    "y_pred = model.predict(x_test_vectorizer)"
   ]
  },
  {
   "cell_type": "code",
   "execution_count": 392,
   "id": "22330025",
   "metadata": {},
   "outputs": [
    {
     "name": "stdout",
     "output_type": "stream",
     "text": [
      "0.7811627906976745\n"
     ]
    }
   ],
   "source": [
    "accuracy = accuracy_score(y_test, y_pred)\n",
    "print(accuracy)"
   ]
  },
  {
   "cell_type": "code",
   "execution_count": 393,
   "id": "022bd5d8",
   "metadata": {},
   "outputs": [
    {
     "name": "stdout",
     "output_type": "stream",
     "text": [
      "0.21973929236499068\n"
     ]
    }
   ],
   "source": [
    "precision =(mt.precision_score(y_test, y_pred))\n",
    "print(precision)"
   ]
  },
  {
   "cell_type": "code",
   "execution_count": 394,
   "id": "22728a36",
   "metadata": {},
   "outputs": [
    {
     "name": "stdout",
     "output_type": "stream",
     "text": [
      "0.696165191740413\n"
     ]
    }
   ],
   "source": [
    "recall= mt.recall_score(y_test, y_pred)\n",
    "print(recall)"
   ]
  },
  {
   "cell_type": "code",
   "execution_count": 395,
   "id": "39425da0",
   "metadata": {},
   "outputs": [
    {
     "name": "stdout",
     "output_type": "stream",
     "text": [
      "0.3340410474168436\n"
     ]
    }
   ],
   "source": [
    "f1=2*((precision*recall)/(precision+recall))\n",
    "print(f1)"
   ]
  },
  {
   "cell_type": "markdown",
   "id": "9d01bef0",
   "metadata": {},
   "source": [
    "Version 2"
   ]
  },
  {
   "cell_type": "code",
   "execution_count": 111,
   "id": "63b6708f",
   "metadata": {},
   "outputs": [],
   "source": [
    "undersample = NearMiss(version=2, n_neighbors=6)"
   ]
  },
  {
   "cell_type": "code",
   "execution_count": 112,
   "id": "0faeb6fb",
   "metadata": {},
   "outputs": [],
   "source": [
    "x_undersample, y_undersample = undersample.fit_resample(x_train, y_train)"
   ]
  },
  {
   "cell_type": "code",
   "execution_count": 113,
   "id": "8e267010",
   "metadata": {},
   "outputs": [
    {
     "data": {
      "text/plain": [
       "DecisionTreeClassifier()"
      ]
     },
     "execution_count": 113,
     "metadata": {},
     "output_type": "execute_result"
    }
   ],
   "source": [
    "model.fit(x_undersample, y_undersample)"
   ]
  },
  {
   "cell_type": "code",
   "execution_count": 114,
   "id": "973cc776",
   "metadata": {},
   "outputs": [],
   "source": [
    "y_pred = model.predict(x_test)"
   ]
  },
  {
   "cell_type": "code",
   "execution_count": 180,
   "id": "91e4c32f",
   "metadata": {},
   "outputs": [
    {
     "name": "stdout",
     "output_type": "stream",
     "text": [
      "0.713215775502465\n"
     ]
    }
   ],
   "source": [
    "accuracy = accuracy_score(y_test, y_pred)\n",
    "print(accuracy)"
   ]
  },
  {
   "cell_type": "code",
   "execution_count": 181,
   "id": "2cf1b495",
   "metadata": {},
   "outputs": [
    {
     "name": "stdout",
     "output_type": "stream",
     "text": [
      "0.1509490810485086\n"
     ]
    }
   ],
   "source": [
    "precision =(mt.precision_score(y_test, y_pred))\n",
    "print(precision)"
   ]
  },
  {
   "cell_type": "code",
   "execution_count": 182,
   "id": "7ad2812d",
   "metadata": {},
   "outputs": [
    {
     "name": "stdout",
     "output_type": "stream",
     "text": [
      "0.7076271186440678\n"
     ]
    }
   ],
   "source": [
    "recall= mt.recall_score(y_test, y_pred)\n",
    "print(recall)"
   ]
  },
  {
   "cell_type": "code",
   "execution_count": 183,
   "id": "851e8218",
   "metadata": {},
   "outputs": [
    {
     "name": "stdout",
     "output_type": "stream",
     "text": [
      "0.24882046188229454\n"
     ]
    }
   ],
   "source": [
    "f1=2*((precision*recall)/(precision+recall))\n",
    "print(f1)"
   ]
  },
  {
   "cell_type": "markdown",
   "id": "e300c4b5",
   "metadata": {},
   "source": [
    "Version 3"
   ]
  },
  {
   "cell_type": "code",
   "execution_count": 184,
   "id": "372d1263",
   "metadata": {},
   "outputs": [],
   "source": [
    "undersample = NearMiss(version=3, n_neighbors=3)"
   ]
  },
  {
   "cell_type": "code",
   "execution_count": 185,
   "id": "6d775e96",
   "metadata": {},
   "outputs": [
    {
     "name": "stderr",
     "output_type": "stream",
     "text": [
      "C:\\Users\\Zehra\\anaconda3\\lib\\site-packages\\imblearn\\under_sampling\\_prototype_selection\\_nearmiss.py:175: UserWarning: The number of the samples to be selected is larger than the number of samples available. The balancing ratio cannot be ensure and all samples will be returned.\n",
      "  warnings.warn(\n"
     ]
    }
   ],
   "source": [
    "x_undersample, y_undersample = undersample.fit_resample(x_train, y_train)"
   ]
  },
  {
   "cell_type": "code",
   "execution_count": 186,
   "id": "ff3c51e1",
   "metadata": {},
   "outputs": [
    {
     "data": {
      "text/plain": [
       "DecisionTreeClassifier()"
      ]
     },
     "execution_count": 186,
     "metadata": {},
     "output_type": "execute_result"
    }
   ],
   "source": [
    "model.fit(x_undersample, y_undersample)"
   ]
  },
  {
   "cell_type": "code",
   "execution_count": 187,
   "id": "e30f54aa",
   "metadata": {},
   "outputs": [],
   "source": [
    "y_pred = model.predict(x_test)"
   ]
  },
  {
   "cell_type": "code",
   "execution_count": 188,
   "id": "f0b5dd03",
   "metadata": {},
   "outputs": [
    {
     "name": "stdout",
     "output_type": "stream",
     "text": [
      "0.6309252938945772\n"
     ]
    }
   ],
   "source": [
    "accuracy = accuracy_score(y_test, y_pred)\n",
    "print(accuracy)"
   ]
  },
  {
   "cell_type": "code",
   "execution_count": 189,
   "id": "550729e4",
   "metadata": {},
   "outputs": [
    {
     "name": "stdout",
     "output_type": "stream",
     "text": [
      "0.12643678160919541\n"
     ]
    }
   ],
   "source": [
    "precision =(mt.precision_score(y_test, y_pred))\n",
    "print(precision)"
   ]
  },
  {
   "cell_type": "code",
   "execution_count": 190,
   "id": "270f58d6",
   "metadata": {},
   "outputs": [
    {
     "name": "stdout",
     "output_type": "stream",
     "text": [
      "0.7612994350282486\n"
     ]
    }
   ],
   "source": [
    "recall= mt.recall_score(y_test, y_pred)\n",
    "print(recall)"
   ]
  },
  {
   "cell_type": "code",
   "execution_count": 191,
   "id": "3dee2fb0",
   "metadata": {},
   "outputs": [
    {
     "name": "stdout",
     "output_type": "stream",
     "text": [
      "0.2168577750955542\n"
     ]
    }
   ],
   "source": [
    "f1=2*((precision*recall)/(precision+recall))\n",
    "print(f1)"
   ]
  },
  {
   "cell_type": "code",
   "execution_count": 410,
   "id": "6e6fb5f1",
   "metadata": {},
   "outputs": [],
   "source": [
    "s= np.array([[\"Decision Tree Classifier\", 0.93,0.64,0.49,0.55], \n",
    "            [\"Random Oversampling\", 0.91,0.46,0.57,0.51], \n",
    "            [\"Smote Oversampling\",0.92,0.49,0.57,0.53], \n",
    "            [\"Undersamling\",0.82,0.27,0.72,0.40],\n",
    "            [\"NearMiss Undersampling\",0.78,0.21,0.69,0.33]])"
   ]
  },
  {
   "cell_type": "code",
   "execution_count": 411,
   "id": "e19c74eb",
   "metadata": {},
   "outputs": [],
   "source": [
    "s=pd.DataFrame(s, columns=['Algoritma','Accuracy', 'Precision','Recall','F1_Score'])"
   ]
  },
  {
   "cell_type": "code",
   "execution_count": 412,
   "id": "ff8ea783",
   "metadata": {},
   "outputs": [
    {
     "data": {
      "text/html": [
       "<div>\n",
       "<style scoped>\n",
       "    .dataframe tbody tr th:only-of-type {\n",
       "        vertical-align: middle;\n",
       "    }\n",
       "\n",
       "    .dataframe tbody tr th {\n",
       "        vertical-align: top;\n",
       "    }\n",
       "\n",
       "    .dataframe thead th {\n",
       "        text-align: right;\n",
       "    }\n",
       "</style>\n",
       "<table border=\"1\" class=\"dataframe\">\n",
       "  <thead>\n",
       "    <tr style=\"text-align: right;\">\n",
       "      <th></th>\n",
       "      <th>Algoritma</th>\n",
       "      <th>Accuracy</th>\n",
       "      <th>Precision</th>\n",
       "      <th>Recall</th>\n",
       "      <th>F1_Score</th>\n",
       "    </tr>\n",
       "  </thead>\n",
       "  <tbody>\n",
       "    <tr>\n",
       "      <th>0</th>\n",
       "      <td>Decision Tree Classifier</td>\n",
       "      <td>0.93</td>\n",
       "      <td>0.64</td>\n",
       "      <td>0.49</td>\n",
       "      <td>0.55</td>\n",
       "    </tr>\n",
       "    <tr>\n",
       "      <th>1</th>\n",
       "      <td>Random Oversampling</td>\n",
       "      <td>0.91</td>\n",
       "      <td>0.46</td>\n",
       "      <td>0.57</td>\n",
       "      <td>0.51</td>\n",
       "    </tr>\n",
       "    <tr>\n",
       "      <th>2</th>\n",
       "      <td>Smote Oversampling</td>\n",
       "      <td>0.92</td>\n",
       "      <td>0.49</td>\n",
       "      <td>0.57</td>\n",
       "      <td>0.53</td>\n",
       "    </tr>\n",
       "    <tr>\n",
       "      <th>3</th>\n",
       "      <td>Undersamling</td>\n",
       "      <td>0.82</td>\n",
       "      <td>0.27</td>\n",
       "      <td>0.72</td>\n",
       "      <td>0.4</td>\n",
       "    </tr>\n",
       "    <tr>\n",
       "      <th>4</th>\n",
       "      <td>NearMiss Undersampling</td>\n",
       "      <td>0.78</td>\n",
       "      <td>0.21</td>\n",
       "      <td>0.69</td>\n",
       "      <td>0.33</td>\n",
       "    </tr>\n",
       "  </tbody>\n",
       "</table>\n",
       "</div>"
      ],
      "text/plain": [
       "                  Algoritma Accuracy Precision Recall F1_Score\n",
       "0  Decision Tree Classifier     0.93      0.64   0.49     0.55\n",
       "1       Random Oversampling     0.91      0.46   0.57     0.51\n",
       "2        Smote Oversampling     0.92      0.49   0.57     0.53\n",
       "3              Undersamling     0.82      0.27   0.72      0.4\n",
       "4    NearMiss Undersampling     0.78      0.21   0.69     0.33"
      ]
     },
     "execution_count": 412,
     "metadata": {},
     "output_type": "execute_result"
    }
   ],
   "source": [
    "s"
   ]
  },
  {
   "cell_type": "code",
   "execution_count": null,
   "id": "431637d0",
   "metadata": {},
   "outputs": [],
   "source": []
  }
 ],
 "metadata": {
  "kernelspec": {
   "display_name": "Python 3",
   "language": "python",
   "name": "python3"
  },
  "language_info": {
   "codemirror_mode": {
    "name": "ipython",
    "version": 3
   },
   "file_extension": ".py",
   "mimetype": "text/x-python",
   "name": "python",
   "nbconvert_exporter": "python",
   "pygments_lexer": "ipython3",
   "version": "3.8.8"
  }
 },
 "nbformat": 4,
 "nbformat_minor": 5
}
